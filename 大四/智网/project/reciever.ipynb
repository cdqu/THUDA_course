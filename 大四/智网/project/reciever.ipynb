{
 "cells": [
  {
   "cell_type": "code",
   "execution_count": 28,
   "metadata": {},
   "outputs": [
    {
     "name": "stdout",
     "output_type": "stream",
     "text": [
      "suceess0\n",
      "suceess1\n",
      "success3success4\n",
      "\n"
     ]
    }
   ],
   "source": [
    "import zmq\n",
    "import sys\n",
    "import time\n",
    "import os\n",
    "from random import randint\n",
    "import smbus\n",
    "\n",
    "import threading\n",
    "\n",
    "num_agents = 3\n",
    "# broker_ip = sys.argv[1]\n",
    "# agent_id = int(sys.argv[2])\n",
    "broker_ip = '192.168.137.163'\n",
    "agent_id = 1\n",
    "\n",
    "def intH(channel):\n",
    "    print(\"INTERRUPT\")\n",
    "\n",
    "port = 1\n",
    "bus = smbus.SMBus(port)\n",
    "\n",
    "\n",
    "def scan_wifi():\n",
    "    # 搜索附近的wifi\n",
    "    os.system('wpa_cli -i wlan0 scan')\n",
    "    # 显示搜索wifi热点的结果\n",
    "    str = os.popen('wpa_cli -i wlan0 scan_result')\n",
    "    return str\n",
    "\n",
    "def main():\n",
    "    print('suceess0')\n",
    "    context = zmq.Context()\n",
    "    publisher = context.socket(zmq.PUB)\n",
    "    publisher.connect(\"tcp://%s:5556\" % broker_ip)\n",
    "\n",
    "    subscriber = context.socket(zmq.SUB)\n",
    "    subscriber.connect(\"tcp://%s:5555\" % broker_ip)\n",
    "    subscriber.setsockopt_string(zmq.SUBSCRIBE, str(agent_id))\n",
    "    print('suceess1')\n",
    "    # 创建新线程\n",
    "    thread1 = myThread1(1, \"Thread-1\", 1)\n",
    "    thread2 = myThread1(2, \"Thread-2\", 2)\n",
    " \n",
    "    # 开启线程\n",
    "    thread1.start()\n",
    "    thread2.start()\n",
    "    \n",
    "#     while True:\n",
    "#         message = subscriber.recv()\n",
    "#         lineothers = int(message[2:])\n",
    "#         r=scan_wifi()\n",
    "#         info = r.readlines()\n",
    "#         for line in info:\n",
    "#             line = line.strip('\\r\\n')\n",
    "#             mac = line[0:17]\n",
    "#             if mac == '74:60:fa:81:a8:d8':\n",
    "#                 print('%d: %s' % (agent_id, line))\n",
    "#                 #publisher.send_string('%d: %d' % (randint(1, num_agents), line))\n",
    "\n",
    "#             time.sleep(0.2)\n",
    "\n",
    "\n",
    "        #publisher.send_string('%d: %s' % (randint(1, num_agents), 'activate'))\n",
    "\n",
    "main()\n"
   ]
  },
  {
   "cell_type": "code",
   "execution_count": 21,
   "metadata": {},
   "outputs": [],
   "source": [
    "exitFlag = 0\n",
    "global val\n",
    "class myThread1 (threading.Thread):   #继承父类threading.Thread\n",
    "    def __init__(self, threadID, name, counter):\n",
    "        threading.Thread.__init__(self)\n",
    "        self.threadID = threadID\n",
    "        self.name = name\n",
    "        self.counter = counter\n",
    "    def run(self):\n",
    "        if self.threadID == 1:\n",
    "            \n",
    "            reciever(self.name, 0.2)\n",
    "        elif self.threadID == 2:\n",
    "            scanner(self.name, 0.2)\n",
    "                    \n",
    "        \n"
   ]
  },
  {
   "cell_type": "code",
   "execution_count": 27,
   "metadata": {},
   "outputs": [
    {
     "name": "stdout",
     "output_type": "stream",
     "text": [
      "Error: unable to start thread\n"
     ]
    },
    {
     "ename": "KeyboardInterrupt",
     "evalue": "",
     "output_type": "error",
     "traceback": [
      "\u001b[0;31m---------------------------------------------------------------------------\u001b[0m",
      "\u001b[0;31mKeyboardInterrupt\u001b[0m                         Traceback (most recent call last)",
      "\u001b[0;32m<ipython-input-27-bca82354f237>\u001b[0m in \u001b[0;36m<module>\u001b[0;34m\u001b[0m\n\u001b[1;32m     28\u001b[0m \u001b[0;34m\u001b[0m\u001b[0m\n\u001b[1;32m     29\u001b[0m \u001b[0;32mwhile\u001b[0m \u001b[0;36m1\u001b[0m\u001b[0;34m:\u001b[0m\u001b[0;34m\u001b[0m\u001b[0;34m\u001b[0m\u001b[0m\n\u001b[0;32m---> 30\u001b[0;31m     \u001b[0;32mpass\u001b[0m\u001b[0;34m\u001b[0m\u001b[0;34m\u001b[0m\u001b[0m\n\u001b[0m",
      "\u001b[0;31mKeyboardInterrupt\u001b[0m: "
     ]
    }
   ],
   "source": [
    "#多线程实现\n",
    "def reciever(threadName, delay):\n",
    "    print(\"success3\")\n",
    "    while True:\n",
    "        r=scan_wifi()\n",
    "        info = r.readlines()\n",
    "        for line in info:\n",
    "            line = line.strip('\\r\\n')\n",
    "            mac = line[0:17]\n",
    "            if mac == '54:25:ea:4c:22:c0':\n",
    "                print('%d: %s' % (agent_id, line))\n",
    "                #publisher.send_string('%d: %d' % (randint(1, num_agents), line))\n",
    "\n",
    "            time.sleep(0.2)\n",
    "    \n",
    "def scanner(threadName, delay):\n",
    "    print(\"success4\")\n",
    "    while True:\n",
    "        #message = subscriber.recv()\n",
    "        #lineothers = int(message[2:])\n",
    "        time.sleep(delay)\n",
    "        \n",
    "try:\n",
    "    threading.start_new_thread( print_time, (\"Thread-1\", 0.2,))\n",
    "    threading.start_new_thread( print_time, (\"Thread-2\", 0.2,))\n",
    "except:\n",
    "    print (\"Error: unable to start thread\")\n",
    "    \n",
    "while 1:\n",
    "    pass"
   ]
  },
  {
   "cell_type": "code",
   "execution_count": null,
   "metadata": {},
   "outputs": [],
   "source": []
  }
 ],
 "metadata": {
  "kernelspec": {
   "display_name": "Python 3",
   "language": "python",
   "name": "python3"
  },
  "language_info": {
   "codemirror_mode": {
    "name": "ipython",
    "version": 3
   },
   "file_extension": ".py",
   "mimetype": "text/x-python",
   "name": "python",
   "nbconvert_exporter": "python",
   "pygments_lexer": "ipython3",
   "version": "3.7.3"
  }
 },
 "nbformat": 4,
 "nbformat_minor": 4
}
