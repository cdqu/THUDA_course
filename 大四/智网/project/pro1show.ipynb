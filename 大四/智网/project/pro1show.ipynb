{
 "cells": [
  {
   "cell_type": "code",
   "execution_count": 16,
   "metadata": {},
   "outputs": [],
   "source": [
    "import numpy as np\n",
    "from pylab import *\n",
    "from matplotlib import pyplot as plt \n",
    "import time"
   ]
  },
  {
   "cell_type": "code",
   "execution_count": 17,
   "metadata": {},
   "outputs": [],
   "source": [
    "raspberry1x = 4\n",
    "raspberry1y = 4\n",
    "raspberry2x = 7\n",
    "raspberry2y = 4\n",
    "raspberry3x = 7\n",
    "raspberry3y = 7"
   ]
  },
  {
   "cell_type": "code",
   "execution_count": 41,
   "metadata": {},
   "outputs": [],
   "source": [
    "def loc_show(a,b,c = -1, d = -1):\n",
    "    figure(figsize=(6,6), dpi=80)\n",
    "    plt.title(\"WIFI Location Detection\") \n",
    "    plt.xlabel(\"x axis\") \n",
    "    plt.ylabel(\"y axis\")\n",
    "    plt.plot(raspberry1x,raspberry1y,\"ob\",label=\"raspberry1\") \n",
    "    plt.plot(raspberry2x,raspberry2y,\"ob\",label=\"raspberry2\") \n",
    "    plt.plot(raspberry3x,raspberry3y,\"ob\",label=\"raspberry3\") \n",
    "    plt.plot(a,b,\"*r\",label=\"wifi1\")\n",
    "    if(c!=-1):\n",
    "        plt.plot(c,d,\"*g\",label=\"wifi2\")\n",
    "    xlim(0,10)\n",
    "    ylim(0,10)\n",
    "    plt.legend()\n",
    "    plt.show()\n",
    "    print(i)\n",
    "    time.sleep(1)"
   ]
  },
  {
   "cell_type": "code",
   "execution_count": 43,
   "metadata": {},
   "outputs": [
    {
     "data": {
      "image/png": "[encoded data removed]",
      "text/plain": [
       "<Figure size 480x480 with 1 Axes>"
      ]
     },
     "metadata": {
      "needs_background": "light"
     },
     "output_type": "display_data"
    },
    {
     "name": "stdout",
     "output_type": "stream",
     "text": [
      "5\n"
     ]
    }
   ],
   "source": [
    "loc_show(9,9,8,9)"
   ]
  },
  {
   "cell_type": "code",
   "execution_count": null,
   "metadata": {},
   "outputs": [],
   "source": []
  }
 ],
 "metadata": {
  "kernelspec": {
   "display_name": "Python 3",
   "language": "python",
   "name": "python3"
  },
  "language_info": {
   "codemirror_mode": {
    "name": "ipython",
    "version": 3
   },
   "file_extension": ".py",
   "mimetype": "text/x-python",
   "name": "python",
   "nbconvert_exporter": "python",
   "pygments_lexer": "ipython3",
   "version": "3.7.4"
  }
 },
 "nbformat": 4,
 "nbformat_minor": 2
}
