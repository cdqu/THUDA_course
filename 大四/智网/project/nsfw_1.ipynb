{
 "cells": [
  {
   "cell_type": "code",
   "execution_count": 15,
   "metadata": {},
   "outputs": [],
   "source": [
    "import bluetooth\n",
    "import bluetooth._bluetooth as bluez\n",
    "def device_inquiry_with_with_rssi(sock):\n",
    "    # save current filter\n",
    "    old_filter = sock.getsockopt(bluez.SOL_HCI, bluez.HCI_FILTER, 14)\n",
    "\n",
    "    # perform a device inquiry on bluetooth device #0\n",
    "    # The inquiry should last 8 * 1.28 = 10.24 seconds\n",
    "    # before the inquiry is performed, bluez should flush its cache of\n",
    "    # previously discovered devices\n",
    "    flt = bluez.hci_filter_new()\n",
    "    bluez.hci_filter_all_events(flt)\n",
    "    bluez.hci_filter_set_ptype(flt, bluez.HCI_EVENT_PKT)\n",
    "    sock.setsockopt(bluez.SOL_HCI, bluez.HCI_FILTER, flt)\n",
    "\n",
    "    duration = 4\n",
    "    max_responses = 255\n",
    "    cmd_pkt = struct.pack(\"BBBBB\", 0x33, 0x8b, 0x9e, duration, max_responses)\n",
    "    bluez.hci_send_cmd(sock, bluez.OGF_LINK_CTL, bluez.OCF_INQUIRY, cmd_pkt)\n",
    "\n",
    "    results = []\n",
    "\n",
    "    while True:\n",
    "        pkt = sock.recv(255)\n",
    "        print(pkt)\n",
    "        ptype, event, plen = struct.unpack(\"BBB\", pkt[:3])\n",
    "        print(\"3:\")\n",
    "        print(ptype)\n",
    "        print(event)\n",
    "        print(plen)\n",
    "        print(\"Event: {}\".format(event))\n",
    "        if event == bluez.EVT_INQUIRY_RESULT_WITH_RSSI:\n",
    "            pkt = pkt[3:]\n",
    "            nrsp = bluetooth.get_byte(pkt[0])\n",
    "            for i in range(nrsp):\n",
    "                addr = bluez.ba2str(pkt[1+6*i:1+6*i+6])\n",
    "                rssi = bluetooth.byte_to_signed_int(\n",
    "                    bluetooth.get_byte(pkt[1 + 13 * nrsp + i]))\n",
    "                results.append((addr, rssi))\n",
    "                print(\"[{}] RSSI: {}\".format(addr, rssi))\n",
    "        elif event == bluez.EVT_INQUIRY_COMPLETE:\n",
    "            print(\"complete\")\n",
    "            break\n",
    "        elif event == bluez.EVT_CMD_STATUS:\n",
    "            status, ncmd, opcode = struct.unpack(\"BBH\", pkt[3:7])\n",
    "            if status:\n",
    "                print(\"Uh oh...\")\n",
    "                printpacket(pkt[3:7])\n",
    "                break\n",
    "        elif event == bluez.EVT_INQUIRY_RESULT:\n",
    "            pkt = pkt[3:]\n",
    "            nrsp = bluetooth.get_byte(pkt[0])\n",
    "            for i in range(nrsp):\n",
    "                addr = bluez.ba2str(pkt[1+6*i:1+6*i+6])\n",
    "                results.append((addr, -1))\n",
    "                print(\"[{}] (no RRSI)\".format(addr))\n",
    "        else:\n",
    "            print(\"Unrecognized packet type 0x{:02x}.\".format(ptype))\n",
    "\n",
    "    # restore old filter\n",
    "    sock.setsockopt(bluez.SOL_HCI, bluez.HCI_FILTER, old_filter)\n",
    "\n",
    "    return results"
   ]
  },
  {
   "cell_type": "code",
   "execution_count": 7,
   "metadata": {},
   "outputs": [],
   "source": [
    "import struct"
   ]
  },
  {
   "cell_type": "code",
   "execution_count": 18,
   "metadata": {},
   "outputs": [
    {
     "ename": "NameError",
     "evalue": "name 'ADDRESS_FOR_YOUR_BLUETOOTH_DEVICE' is not defined",
     "output_type": "error",
     "traceback": [
      "\u001b[0;31m---------------------------------------------------------------------------\u001b[0m",
      "\u001b[0;31mNameError\u001b[0m                                 Traceback (most recent call last)",
      "\u001b[0;32m<ipython-input-18-d9df399c39b3>\u001b[0m in \u001b[0;36m<module>\u001b[0;34m\u001b[0m\n\u001b[0;32m----> 1\u001b[0;31m \u001b[0mdev_id\u001b[0m \u001b[0;34m=\u001b[0m \u001b[0mbluez\u001b[0m\u001b[0;34m.\u001b[0m\u001b[0mhci_get_route\u001b[0m\u001b[0;34m(\u001b[0m\u001b[0mADDRESS_FOR_YOUR_BLUETOOTH_DEVICE\u001b[0m\u001b[0;34m)\u001b[0m\u001b[0;34m\u001b[0m\u001b[0;34m\u001b[0m\u001b[0m\n\u001b[0m",
      "\u001b[0;31mNameError\u001b[0m: name 'ADDRESS_FOR_YOUR_BLUETOOTH_DEVICE' is not defined"
     ]
    }
   ],
   "source": [
    "dev_id = bluez.hci_get_route(ADDRESS_FOR_YOUR_BLUETOOTH_DEVICE)"
   ]
  },
  {
   "cell_type": "code",
   "execution_count": 5,
   "metadata": {},
   "outputs": [],
   "source": [
    "sock = bluez.hci_open_dev(dev_id)"
   ]
  },
  {
   "cell_type": "code",
   "execution_count": 17,
   "metadata": {},
   "outputs": [
    {
     "name": "stdout",
     "output_type": "stream",
     "text": [
      "b'\\x04\\x0f\\x04\\x00\\x01\\x01\\x04'\n",
      "3:\n",
      "4\n",
      "15\n",
      "4\n",
      "Event: 15\n",
      "b'\\x04\\x01\\x01\\x00'\n",
      "3:\n",
      "4\n",
      "1\n",
      "1\n",
      "Event: 1\n",
      "complete\n"
     ]
    },
    {
     "data": {
      "text/plain": [
       "[]"
      ]
     },
     "execution_count": 17,
     "metadata": {},
     "output_type": "execute_result"
    }
   ],
   "source": [
    "device_inquiry_with_with_rssi(sock)"
   ]
  },
  {
   "cell_type": "code",
   "execution_count": null,
   "metadata": {},
   "outputs": [],
   "source": []
  }
 ],
 "metadata": {
  "kernelspec": {
   "display_name": "Python 3",
   "language": "python",
   "name": "python3"
  },
  "language_info": {
   "codemirror_mode": {
    "name": "ipython",
    "version": 3
   },
   "file_extension": ".py",
   "mimetype": "text/x-python",
   "name": "python",
   "nbconvert_exporter": "python",
   "pygments_lexer": "ipython3",
   "version": "3.7.3"
  }
 },
 "nbformat": 4,
 "nbformat_minor": 4
}
