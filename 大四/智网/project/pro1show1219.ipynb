{
 "cells": [
  {
   "cell_type": "code",
   "execution_count": 47,
   "metadata": {},
   "outputs": [],
   "source": [
    "import numpy as np\n",
    "from pylab import *\n",
    "from matplotlib import pyplot as plt \n",
    "import time\n",
    "import math"
   ]
  },
  {
   "cell_type": "code",
   "execution_count": 81,
   "metadata": {},
   "outputs": [],
   "source": [
    "#三个树莓派的坐标值\n",
    "rb1x = 4\n",
    "rb1y = 4\n",
    "rb2x = 7\n",
    "rb2y = 4\n",
    "rb3x = 7\n",
    "rb3y = 7"
   ]
  },
  {
   "cell_type": "code",
   "execution_count": 57,
   "metadata": {},
   "outputs": [],
   "source": [
    "#输入三个树莓派的距离，计算出WIFI信号坐标\n",
    "def loc_calculate(r1,r2,r3):\n",
    "    x12 = insec(rb1x,rb1y,r1,rb2x,rb2y,r2)\n",
    "    x13 = insec(rb1x,rb1y,r1,rb3x,rb3y,r3)\n",
    "    x23 = insec(rb2x,rb2y,r2,rb3x,rb3y,r3)\n",
    "    x121 = x12[0]\n",
    "    x122 = x12[1]\n",
    "    x131 = x13[0]\n",
    "    x132 = x13[1]\n",
    "    x231 = x23[0]\n",
    "    x232 = x23[1]\n",
    "    p1 = choosepoint(x121,x122,x131,x132,x231,x232)\n",
    "    p2 = choosepoint(x131,x132,x121,x122,x231,x232)\n",
    "    p3 = choosepoint(x231,x232,x121,x122,x131,x132)\n",
    "    p = (p1+p2+p3)/3\n",
    "    print(p)\n",
    "    return p"
   ]
  },
  {
   "cell_type": "code",
   "execution_count": 56,
   "metadata": {},
   "outputs": [],
   "source": [
    "#根据三个圆的六个交点选出合适的三个交点\n",
    "def choosepoint(a1,a2,b1,b2,c1,c2):\n",
    "    d11 = math.sqrt((abs(a1[0]-b1[0]))**2 + (abs(a1[1]-b1[1]))**2)\n",
    "    d12 = math.sqrt((abs(a1[0]-b2[0]))**2 + (abs(a1[1]-b2[1]))**2)\n",
    "    d13 = math.sqrt((abs(a1[0]-c1[0]))**2 + (abs(a1[1]-c1[1]))**2)\n",
    "    d14 = math.sqrt((abs(a1[0]-c2[0]))**2 + (abs(a1[1]-c2[1]))**2)\n",
    "    d1 = d11 + d12 + d13 + d14\n",
    "    d21 = math.sqrt((abs(a2[0]-b1[0]))**2 + (abs(a2[1]-b1[1]))**2)\n",
    "    d22 = math.sqrt((abs(a2[0]-b2[0]))**2 + (abs(a2[1]-b2[1]))**2)\n",
    "    d23 = math.sqrt((abs(a2[0]-c1[0]))**2 + (abs(a2[1]-c1[1]))**2)\n",
    "    d24 = math.sqrt((abs(a2[0]-c2[0]))**2 + (abs(a2[1]-c2[1]))**2)\n",
    "    d2 = d21 + d22 + d23 + d24\n",
    "    if d1 <= d2:\n",
    "        return a1\n",
    "    else:\n",
    "        return a2"
   ]
  },
  {
   "cell_type": "code",
   "execution_count": 72,
   "metadata": {},
   "outputs": [],
   "source": [
    "# 两圆求交点\n",
    "def insec(x,y,r1,a,b,r2):\n",
    "    R = r1\n",
    "    S = r2\n",
    "    d = math.sqrt((abs(a-x))**2 + (abs(b-y))**2)\n",
    "    if d > (R+S) or d < (abs(R-S)):\n",
    "        print (\"Two circles have no intersection\")\n",
    "        #两圆相离\n",
    "        if d > (R+S):\n",
    "            x3 = (x*S+a*R)/(S+R)\n",
    "            y3 = (y*R+b*S)/(S+R)\n",
    "        #两圆包含\n",
    "        elif S < R:\n",
    "            x3 = a + (R+S-d)*(a-x)/(2*d)\n",
    "            y3 = b + (R+S-d)*(b-y)/(2*d)\n",
    "        elif S > R:\n",
    "            x3 = x + (R+S-d)*(x-a)/(2*d)\n",
    "            y3 = y + (R+S-d)*(y-b)/(2*d)\n",
    "        else:\n",
    "            print(\"ERROR in logic\")\n",
    "        \n",
    "        c1=np.array([x3, y3])\n",
    "        c2=np.array([x3, y3])\n",
    "        return c1,c2\n",
    "    else:\n",
    "        A = (R**2 - S**2 + d**2) / (2 * d)\n",
    "        h = math.sqrt(R**2 - A**2)\n",
    "        x2 = x + A * (a-x)/d\n",
    "        y2 = y + A * (b-y)/d\n",
    "        x3 = round(x2 - h * (b - y) / d,2)\n",
    "        y3 = round(y2 + h * (a - x) / d,2)\n",
    "        x4 = round(x2 + h * (b - y) / d,2)\n",
    "        y4 = round(y2 - h * (a - x) / d,2)\n",
    "        print (x3, y3)\n",
    "        print (x4, y4)\n",
    "        c1=np.array([x3, y3])\n",
    "        c2=np.array([x4, y4])\n",
    "        return c1,c2"
   ]
  },
  {
   "cell_type": "code",
   "execution_count": 82,
   "metadata": {},
   "outputs": [],
   "source": [
    "#可视化模块\n",
    "def loc_show(a,b,c = -1, d = -1, e = -1, f = -1):\n",
    "    figure(figsize=(6,6), dpi=80)\n",
    "    plt.title(\"WIFI Location Detection\") \n",
    "    plt.xlabel(\"x axis\") \n",
    "    plt.ylabel(\"y axis\")\n",
    "    plt.plot(rb1x,rb1y,\"ob\",label=\"raspberry1\") \n",
    "    plt.plot(rb2x,rb2y,\"og\",label=\"raspberry2\") \n",
    "    plt.plot(rb3x,rb3y,\"or\",label=\"raspberry3\") \n",
    "    plt.plot(a,b,\"*r\",label=\"wifi1\")\n",
    "    if(c!=-1):\n",
    "        plt.plot(c,d,\"*g\",label=\"wifi2\")\n",
    "    if(e!=-1):\n",
    "        plt.plot(e,f,\"*b\",label=\"wifi3\")\n",
    "    xlim(0,10)\n",
    "    ylim(0,10)\n",
    "    plt.legend()\n",
    "    plt.show()\n",
    "    print(i)\n",
    "    time.sleep(1)"
   ]
  },
  {
   "cell_type": "code",
   "execution_count": 79,
   "metadata": {},
   "outputs": [
    {
     "name": "stdout",
     "output_type": "stream",
     "text": [
      "5.5 4.0\n",
      "5.5 4.0\n",
      "Two circles have no intersection\n",
      "Two circles have no intersection\n",
      "[4.644712   1.72804534]\n"
     ]
    },
    {
     "data": {
      "image/png": "[encoded data removed]",
      "text/plain": [
       "<Figure size 480x480 with 1 Axes>"
      ]
     },
     "metadata": {
      "needs_background": "light"
     },
     "output_type": "display_data"
    },
    {
     "name": "stdout",
     "output_type": "stream",
     "text": [
      "5\n"
     ]
    }
   ],
   "source": [
    "p = loc_calculate(1.5,1.5,10)\n",
    "loc_show(p[0],p[1])"
   ]
  },
  {
   "cell_type": "code",
   "execution_count": null,
   "metadata": {},
   "outputs": [],
   "source": []
  }
 ],
 "metadata": {
  "kernelspec": {
   "display_name": "Python 3",
   "language": "python",
   "name": "python3"
  },
  "language_info": {
   "codemirror_mode": {
    "name": "ipython",
    "version": 3
   },
   "file_extension": ".py",
   "mimetype": "text/x-python",
   "name": "python",
   "nbconvert_exporter": "python",
   "pygments_lexer": "ipython3",
   "version": "3.7.4"
  }
 },
 "nbformat": 4,
 "nbformat_minor": 2
}
