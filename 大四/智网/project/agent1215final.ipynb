{
 "cells": [
  {
   "cell_type": "code",
   "execution_count": 1,
   "metadata": {},
   "outputs": [],
   "source": [
    "import zmq\n",
    "import sys\n",
    "import time\n",
    "import os\n",
    "from random import randint\n",
    "from rpi_ws281x import Adafruit_NeoPixel, Color\n",
    "import smbus\n",
    "import RPi.GPIO as GPIO\n",
    "from apds9960.const import *\n",
    "from apds9960 import APDS9960\n",
    "\n",
    "num_agents = 3\n",
    "#broker_ip = sys.argv[1]\n",
    "#agent_id = int(sys.argv[2])\n",
    "broker_ip = '192.168.137.175'\n",
    "agent_id = 3"
   ]
  },
  {
   "cell_type": "code",
   "execution_count": 2,
   "metadata": {},
   "outputs": [],
   "source": [
    "def intH(channel):\n",
    "    print(\"INTERRUPT\")\n",
    "\n",
    "port = 1\n",
    "bus = smbus.SMBus(port)"
   ]
  },
  {
   "cell_type": "code",
   "execution_count": 3,
   "metadata": {},
   "outputs": [],
   "source": [
    "def scan_wifi():\n",
    "    # 搜索附近的wifi\n",
    "    os.system('wpa_cli -i wlan0 scan')\n",
    "    # 显示搜索wifi热点的结果\n",
    "    str = os.popen('wpa_cli -i wlan0 scan_result')\n",
    "    return str"
   ]
  },
  {
   "cell_type": "code",
   "execution_count": 8,
   "metadata": {},
   "outputs": [],
   "source": [
    "\n",
    "def main(agent_id):\n",
    "    context = zmq.Context()\n",
    "    publisher = context.socket(zmq.PUB)\n",
    "    publisher.connect(\"tcp://%s:5556\" % broker_ip)\n",
    "    print(\"success1\")\n",
    "    subscriber = context.socket(zmq.SUB)\n",
    "    subscriber.connect(\"tcp://%s:5555\" % broker_ip)\n",
    "    #subscriber.setsockopt_string(zmq.SUBSCRIBE, str(agent_id))\n",
    "    while True:\n",
    "        flag = 0\n",
    "        #message = subscriber.recv()\n",
    "        r=scan_wifi()\n",
    "        print(\"success2\")\n",
    "        info = r.readlines()\n",
    "        print(\"success3\")\n",
    "        for line in info:\n",
    "            line = line.strip('\\r\\n')\n",
    "            # print(line)\n",
    "            mac = line[0:17]\n",
    "            if (mac == '54:25:ea:4c:22:c0') | (mac == '74:60:fa:81:a8:d8'):\n",
    "                print('%d: %s' % (agent_id, line))\n",
    "                publisher.send_string('%d: %s' % (13, line))\n",
    "                flag = 1\n",
    "        if flag == 0:\n",
    "            print('haha')\n",
    "                \n",
    "#         print(line)\n",
    "#         score = int(message[2:])\n",
    "#         print('%d: %s' % (agent_id, message))\n",
    "        # YOUR CODE HERE: add code for the sensors and LED HAT\n",
    "\n",
    "        \n",
    "            #publisher.send_string('%d: %d' % (randint(1, num_agents), score))\n",
    "\n",
    "                \n",
    "\n",
    "            time.sleep(0.2)"
   ]
  },
  {
   "cell_type": "code",
   "execution_count": 1,
   "metadata": {},
   "outputs": [
    {
     "ename": "NameError",
     "evalue": "name 'main' is not defined",
     "output_type": "error",
     "traceback": [
      "\u001b[0;31m---------------------------------------------------------------------------\u001b[0m",
      "\u001b[0;31mNameError\u001b[0m                                 Traceback (most recent call last)",
      "\u001b[0;32m<ipython-input-1-2c85f4926fcb>\u001b[0m in \u001b[0;36m<module>\u001b[0;34m\u001b[0m\n\u001b[0;32m----> 1\u001b[0;31m \u001b[0mmain\u001b[0m\u001b[0;34m(\u001b[0m\u001b[0magent_id\u001b[0m\u001b[0;34m)\u001b[0m\u001b[0;34m\u001b[0m\u001b[0;34m\u001b[0m\u001b[0m\n\u001b[0m",
      "\u001b[0;31mNameError\u001b[0m: name 'main' is not defined"
     ]
    }
   ],
   "source": [
    "main(agent_id)"
   ]
  },
  {
   "cell_type": "code",
   "execution_count": null,
   "metadata": {},
   "outputs": [],
   "source": []
  }
 ],
 "metadata": {
  "kernelspec": {
   "display_name": "Python 3",
   "language": "python",
   "name": "python3"
  },
  "language_info": {
   "codemirror_mode": {
    "name": "ipython",
    "version": 3
   },
   "file_extension": ".py",
   "mimetype": "text/x-python",
   "name": "python",
   "nbconvert_exporter": "python",
   "pygments_lexer": "ipython3",
   "version": "3.7.3"
  }
 },
 "nbformat": 4,
 "nbformat_minor": 4
}
